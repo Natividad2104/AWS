{
  "nbformat": 4,
  "nbformat_minor": 0,
  "metadata": {
    "colab": {
      "provenance": [],
      "include_colab_link": true
    },
    "kernelspec": {
      "name": "python3",
      "display_name": "Python 3"
    },
    "language_info": {
      "name": "python"
    },
    "widgets": {
      "application/vnd.jupyter.widget-state+json": {
        "bd353f40342a4098911a6f3313d506f8": {
          "model_module": "@jupyter-widgets/controls",
          "model_name": "HBoxModel",
          "model_module_version": "1.5.0",
          "state": {
            "_dom_classes": [],
            "_model_module": "@jupyter-widgets/controls",
            "_model_module_version": "1.5.0",
            "_model_name": "HBoxModel",
            "_view_count": null,
            "_view_module": "@jupyter-widgets/controls",
            "_view_module_version": "1.5.0",
            "_view_name": "HBoxView",
            "box_style": "",
            "children": [
              "IPY_MODEL_66c7bd0026774822a0a6e11e33b20e8a",
              "IPY_MODEL_ce52b2a07914462885ecd062354b5052",
              "IPY_MODEL_2fb2e8a8a34f4b94a797043657097f6b"
            ],
            "layout": "IPY_MODEL_1aadb8e2ed924dada8ef5ff56770cd58"
          }
        },
        "66c7bd0026774822a0a6e11e33b20e8a": {
          "model_module": "@jupyter-widgets/controls",
          "model_name": "HTMLModel",
          "model_module_version": "1.5.0",
          "state": {
            "_dom_classes": [],
            "_model_module": "@jupyter-widgets/controls",
            "_model_module_version": "1.5.0",
            "_model_name": "HTMLModel",
            "_view_count": null,
            "_view_module": "@jupyter-widgets/controls",
            "_view_module_version": "1.5.0",
            "_view_name": "HTMLView",
            "description": "",
            "description_tooltip": null,
            "layout": "IPY_MODEL_55ef99cb41a54af7ba50645e3e0760ca",
            "placeholder": "​",
            "style": "IPY_MODEL_f870098293d349fd8e40fac4faa0de56",
            "value": "config.json: 100%"
          }
        },
        "ce52b2a07914462885ecd062354b5052": {
          "model_module": "@jupyter-widgets/controls",
          "model_name": "FloatProgressModel",
          "model_module_version": "1.5.0",
          "state": {
            "_dom_classes": [],
            "_model_module": "@jupyter-widgets/controls",
            "_model_module_version": "1.5.0",
            "_model_name": "FloatProgressModel",
            "_view_count": null,
            "_view_module": "@jupyter-widgets/controls",
            "_view_module_version": "1.5.0",
            "_view_name": "ProgressView",
            "bar_style": "success",
            "description": "",
            "description_tooltip": null,
            "layout": "IPY_MODEL_466ae5f33e9845c5bfa74d11601ca671",
            "max": 811,
            "min": 0,
            "orientation": "horizontal",
            "style": "IPY_MODEL_5dd01d7b25a44c5e8760dd7390f2e6ff",
            "value": 811
          }
        },
        "2fb2e8a8a34f4b94a797043657097f6b": {
          "model_module": "@jupyter-widgets/controls",
          "model_name": "HTMLModel",
          "model_module_version": "1.5.0",
          "state": {
            "_dom_classes": [],
            "_model_module": "@jupyter-widgets/controls",
            "_model_module_version": "1.5.0",
            "_model_name": "HTMLModel",
            "_view_count": null,
            "_view_module": "@jupyter-widgets/controls",
            "_view_module_version": "1.5.0",
            "_view_name": "HTMLView",
            "description": "",
            "description_tooltip": null,
            "layout": "IPY_MODEL_a31d84b109b8457dbc036f05403d9076",
            "placeholder": "​",
            "style": "IPY_MODEL_d4aa8d5ab9c741e98079bb8d3f2b3c34",
            "value": " 811/811 [00:00&lt;00:00, 49.2kB/s]"
          }
        },
        "1aadb8e2ed924dada8ef5ff56770cd58": {
          "model_module": "@jupyter-widgets/base",
          "model_name": "LayoutModel",
          "model_module_version": "1.2.0",
          "state": {
            "_model_module": "@jupyter-widgets/base",
            "_model_module_version": "1.2.0",
            "_model_name": "LayoutModel",
            "_view_count": null,
            "_view_module": "@jupyter-widgets/base",
            "_view_module_version": "1.2.0",
            "_view_name": "LayoutView",
            "align_content": null,
            "align_items": null,
            "align_self": null,
            "border": null,
            "bottom": null,
            "display": null,
            "flex": null,
            "flex_flow": null,
            "grid_area": null,
            "grid_auto_columns": null,
            "grid_auto_flow": null,
            "grid_auto_rows": null,
            "grid_column": null,
            "grid_gap": null,
            "grid_row": null,
            "grid_template_areas": null,
            "grid_template_columns": null,
            "grid_template_rows": null,
            "height": null,
            "justify_content": null,
            "justify_items": null,
            "left": null,
            "margin": null,
            "max_height": null,
            "max_width": null,
            "min_height": null,
            "min_width": null,
            "object_fit": null,
            "object_position": null,
            "order": null,
            "overflow": null,
            "overflow_x": null,
            "overflow_y": null,
            "padding": null,
            "right": null,
            "top": null,
            "visibility": null,
            "width": null
          }
        },
        "55ef99cb41a54af7ba50645e3e0760ca": {
          "model_module": "@jupyter-widgets/base",
          "model_name": "LayoutModel",
          "model_module_version": "1.2.0",
          "state": {
            "_model_module": "@jupyter-widgets/base",
            "_model_module_version": "1.2.0",
            "_model_name": "LayoutModel",
            "_view_count": null,
            "_view_module": "@jupyter-widgets/base",
            "_view_module_version": "1.2.0",
            "_view_name": "LayoutView",
            "align_content": null,
            "align_items": null,
            "align_self": null,
            "border": null,
            "bottom": null,
            "display": null,
            "flex": null,
            "flex_flow": null,
            "grid_area": null,
            "grid_auto_columns": null,
            "grid_auto_flow": null,
            "grid_auto_rows": null,
            "grid_column": null,
            "grid_gap": null,
            "grid_row": null,
            "grid_template_areas": null,
            "grid_template_columns": null,
            "grid_template_rows": null,
            "height": null,
            "justify_content": null,
            "justify_items": null,
            "left": null,
            "margin": null,
            "max_height": null,
            "max_width": null,
            "min_height": null,
            "min_width": null,
            "object_fit": null,
            "object_position": null,
            "order": null,
            "overflow": null,
            "overflow_x": null,
            "overflow_y": null,
            "padding": null,
            "right": null,
            "top": null,
            "visibility": null,
            "width": null
          }
        },
        "f870098293d349fd8e40fac4faa0de56": {
          "model_module": "@jupyter-widgets/controls",
          "model_name": "DescriptionStyleModel",
          "model_module_version": "1.5.0",
          "state": {
            "_model_module": "@jupyter-widgets/controls",
            "_model_module_version": "1.5.0",
            "_model_name": "DescriptionStyleModel",
            "_view_count": null,
            "_view_module": "@jupyter-widgets/base",
            "_view_module_version": "1.2.0",
            "_view_name": "StyleView",
            "description_width": ""
          }
        },
        "466ae5f33e9845c5bfa74d11601ca671": {
          "model_module": "@jupyter-widgets/base",
          "model_name": "LayoutModel",
          "model_module_version": "1.2.0",
          "state": {
            "_model_module": "@jupyter-widgets/base",
            "_model_module_version": "1.2.0",
            "_model_name": "LayoutModel",
            "_view_count": null,
            "_view_module": "@jupyter-widgets/base",
            "_view_module_version": "1.2.0",
            "_view_name": "LayoutView",
            "align_content": null,
            "align_items": null,
            "align_self": null,
            "border": null,
            "bottom": null,
            "display": null,
            "flex": null,
            "flex_flow": null,
            "grid_area": null,
            "grid_auto_columns": null,
            "grid_auto_flow": null,
            "grid_auto_rows": null,
            "grid_column": null,
            "grid_gap": null,
            "grid_row": null,
            "grid_template_areas": null,
            "grid_template_columns": null,
            "grid_template_rows": null,
            "height": null,
            "justify_content": null,
            "justify_items": null,
            "left": null,
            "margin": null,
            "max_height": null,
            "max_width": null,
            "min_height": null,
            "min_width": null,
            "object_fit": null,
            "object_position": null,
            "order": null,
            "overflow": null,
            "overflow_x": null,
            "overflow_y": null,
            "padding": null,
            "right": null,
            "top": null,
            "visibility": null,
            "width": null
          }
        },
        "5dd01d7b25a44c5e8760dd7390f2e6ff": {
          "model_module": "@jupyter-widgets/controls",
          "model_name": "ProgressStyleModel",
          "model_module_version": "1.5.0",
          "state": {
            "_model_module": "@jupyter-widgets/controls",
            "_model_module_version": "1.5.0",
            "_model_name": "ProgressStyleModel",
            "_view_count": null,
            "_view_module": "@jupyter-widgets/base",
            "_view_module_version": "1.2.0",
            "_view_name": "StyleView",
            "bar_color": null,
            "description_width": ""
          }
        },
        "a31d84b109b8457dbc036f05403d9076": {
          "model_module": "@jupyter-widgets/base",
          "model_name": "LayoutModel",
          "model_module_version": "1.2.0",
          "state": {
            "_model_module": "@jupyter-widgets/base",
            "_model_module_version": "1.2.0",
            "_model_name": "LayoutModel",
            "_view_count": null,
            "_view_module": "@jupyter-widgets/base",
            "_view_module_version": "1.2.0",
            "_view_name": "LayoutView",
            "align_content": null,
            "align_items": null,
            "align_self": null,
            "border": null,
            "bottom": null,
            "display": null,
            "flex": null,
            "flex_flow": null,
            "grid_area": null,
            "grid_auto_columns": null,
            "grid_auto_flow": null,
            "grid_auto_rows": null,
            "grid_column": null,
            "grid_gap": null,
            "grid_row": null,
            "grid_template_areas": null,
            "grid_template_columns": null,
            "grid_template_rows": null,
            "height": null,
            "justify_content": null,
            "justify_items": null,
            "left": null,
            "margin": null,
            "max_height": null,
            "max_width": null,
            "min_height": null,
            "min_width": null,
            "object_fit": null,
            "object_position": null,
            "order": null,
            "overflow": null,
            "overflow_x": null,
            "overflow_y": null,
            "padding": null,
            "right": null,
            "top": null,
            "visibility": null,
            "width": null
          }
        },
        "d4aa8d5ab9c741e98079bb8d3f2b3c34": {
          "model_module": "@jupyter-widgets/controls",
          "model_name": "DescriptionStyleModel",
          "model_module_version": "1.5.0",
          "state": {
            "_model_module": "@jupyter-widgets/controls",
            "_model_module_version": "1.5.0",
            "_model_name": "DescriptionStyleModel",
            "_view_count": null,
            "_view_module": "@jupyter-widgets/base",
            "_view_module_version": "1.2.0",
            "_view_name": "StyleView",
            "description_width": ""
          }
        },
        "36ce82b1320a41a1a3c29c443473c221": {
          "model_module": "@jupyter-widgets/controls",
          "model_name": "HBoxModel",
          "model_module_version": "1.5.0",
          "state": {
            "_dom_classes": [],
            "_model_module": "@jupyter-widgets/controls",
            "_model_module_version": "1.5.0",
            "_model_name": "HBoxModel",
            "_view_count": null,
            "_view_module": "@jupyter-widgets/controls",
            "_view_module_version": "1.5.0",
            "_view_name": "HBoxView",
            "box_style": "",
            "children": [
              "IPY_MODEL_ac23af9f5211413fba4747f807144009",
              "IPY_MODEL_558232de103f4011b7a2b59ad4c88ada",
              "IPY_MODEL_2f32b32ad45d4faaa71e74b7a88eb70d"
            ],
            "layout": "IPY_MODEL_3ed7a0f0c2ec4ed0a547f0810e4b2dac"
          }
        },
        "ac23af9f5211413fba4747f807144009": {
          "model_module": "@jupyter-widgets/controls",
          "model_name": "HTMLModel",
          "model_module_version": "1.5.0",
          "state": {
            "_dom_classes": [],
            "_model_module": "@jupyter-widgets/controls",
            "_model_module_version": "1.5.0",
            "_model_name": "HTMLModel",
            "_view_count": null,
            "_view_module": "@jupyter-widgets/controls",
            "_view_module_version": "1.5.0",
            "_view_name": "HTMLView",
            "description": "",
            "description_tooltip": null,
            "layout": "IPY_MODEL_98c0bd1a5cee4c31a002a19876ebf23f",
            "placeholder": "​",
            "style": "IPY_MODEL_a89b7f09dd2243918fad90bf059a197b",
            "value": "tokenizer.json: 100%"
          }
        },
        "558232de103f4011b7a2b59ad4c88ada": {
          "model_module": "@jupyter-widgets/controls",
          "model_name": "FloatProgressModel",
          "model_module_version": "1.5.0",
          "state": {
            "_dom_classes": [],
            "_model_module": "@jupyter-widgets/controls",
            "_model_module_version": "1.5.0",
            "_model_name": "FloatProgressModel",
            "_view_count": null,
            "_view_module": "@jupyter-widgets/controls",
            "_view_module_version": "1.5.0",
            "_view_name": "ProgressView",
            "bar_style": "success",
            "description": "",
            "description_tooltip": null,
            "layout": "IPY_MODEL_3d55211470324cc4a46d135f8c437b4f",
            "max": 1460161,
            "min": 0,
            "orientation": "horizontal",
            "style": "IPY_MODEL_983f238ff40e40928adcef6a51c04fe8",
            "value": 1460161
          }
        },
        "2f32b32ad45d4faaa71e74b7a88eb70d": {
          "model_module": "@jupyter-widgets/controls",
          "model_name": "HTMLModel",
          "model_module_version": "1.5.0",
          "state": {
            "_dom_classes": [],
            "_model_module": "@jupyter-widgets/controls",
            "_model_module_version": "1.5.0",
            "_model_name": "HTMLModel",
            "_view_count": null,
            "_view_module": "@jupyter-widgets/controls",
            "_view_module_version": "1.5.0",
            "_view_name": "HTMLView",
            "description": "",
            "description_tooltip": null,
            "layout": "IPY_MODEL_d87fdc53758e41f299652ad8ff8d9f61",
            "placeholder": "​",
            "style": "IPY_MODEL_36f6587b908542ab845fb3960d213ec8",
            "value": " 1.46M/1.46M [00:00&lt;00:00, 19.3MB/s]"
          }
        },
        "3ed7a0f0c2ec4ed0a547f0810e4b2dac": {
          "model_module": "@jupyter-widgets/base",
          "model_name": "LayoutModel",
          "model_module_version": "1.2.0",
          "state": {
            "_model_module": "@jupyter-widgets/base",
            "_model_module_version": "1.2.0",
            "_model_name": "LayoutModel",
            "_view_count": null,
            "_view_module": "@jupyter-widgets/base",
            "_view_module_version": "1.2.0",
            "_view_name": "LayoutView",
            "align_content": null,
            "align_items": null,
            "align_self": null,
            "border": null,
            "bottom": null,
            "display": null,
            "flex": null,
            "flex_flow": null,
            "grid_area": null,
            "grid_auto_columns": null,
            "grid_auto_flow": null,
            "grid_auto_rows": null,
            "grid_column": null,
            "grid_gap": null,
            "grid_row": null,
            "grid_template_areas": null,
            "grid_template_columns": null,
            "grid_template_rows": null,
            "height": null,
            "justify_content": null,
            "justify_items": null,
            "left": null,
            "margin": null,
            "max_height": null,
            "max_width": null,
            "min_height": null,
            "min_width": null,
            "object_fit": null,
            "object_position": null,
            "order": null,
            "overflow": null,
            "overflow_x": null,
            "overflow_y": null,
            "padding": null,
            "right": null,
            "top": null,
            "visibility": null,
            "width": null
          }
        },
        "98c0bd1a5cee4c31a002a19876ebf23f": {
          "model_module": "@jupyter-widgets/base",
          "model_name": "LayoutModel",
          "model_module_version": "1.2.0",
          "state": {
            "_model_module": "@jupyter-widgets/base",
            "_model_module_version": "1.2.0",
            "_model_name": "LayoutModel",
            "_view_count": null,
            "_view_module": "@jupyter-widgets/base",
            "_view_module_version": "1.2.0",
            "_view_name": "LayoutView",
            "align_content": null,
            "align_items": null,
            "align_self": null,
            "border": null,
            "bottom": null,
            "display": null,
            "flex": null,
            "flex_flow": null,
            "grid_area": null,
            "grid_auto_columns": null,
            "grid_auto_flow": null,
            "grid_auto_rows": null,
            "grid_column": null,
            "grid_gap": null,
            "grid_row": null,
            "grid_template_areas": null,
            "grid_template_columns": null,
            "grid_template_rows": null,
            "height": null,
            "justify_content": null,
            "justify_items": null,
            "left": null,
            "margin": null,
            "max_height": null,
            "max_width": null,
            "min_height": null,
            "min_width": null,
            "object_fit": null,
            "object_position": null,
            "order": null,
            "overflow": null,
            "overflow_x": null,
            "overflow_y": null,
            "padding": null,
            "right": null,
            "top": null,
            "visibility": null,
            "width": null
          }
        },
        "a89b7f09dd2243918fad90bf059a197b": {
          "model_module": "@jupyter-widgets/controls",
          "model_name": "DescriptionStyleModel",
          "model_module_version": "1.5.0",
          "state": {
            "_model_module": "@jupyter-widgets/controls",
            "_model_module_version": "1.5.0",
            "_model_name": "DescriptionStyleModel",
            "_view_count": null,
            "_view_module": "@jupyter-widgets/base",
            "_view_module_version": "1.2.0",
            "_view_name": "StyleView",
            "description_width": ""
          }
        },
        "3d55211470324cc4a46d135f8c437b4f": {
          "model_module": "@jupyter-widgets/base",
          "model_name": "LayoutModel",
          "model_module_version": "1.2.0",
          "state": {
            "_model_module": "@jupyter-widgets/base",
            "_model_module_version": "1.2.0",
            "_model_name": "LayoutModel",
            "_view_count": null,
            "_view_module": "@jupyter-widgets/base",
            "_view_module_version": "1.2.0",
            "_view_name": "LayoutView",
            "align_content": null,
            "align_items": null,
            "align_self": null,
            "border": null,
            "bottom": null,
            "display": null,
            "flex": null,
            "flex_flow": null,
            "grid_area": null,
            "grid_auto_columns": null,
            "grid_auto_flow": null,
            "grid_auto_rows": null,
            "grid_column": null,
            "grid_gap": null,
            "grid_row": null,
            "grid_template_areas": null,
            "grid_template_columns": null,
            "grid_template_rows": null,
            "height": null,
            "justify_content": null,
            "justify_items": null,
            "left": null,
            "margin": null,
            "max_height": null,
            "max_width": null,
            "min_height": null,
            "min_width": null,
            "object_fit": null,
            "object_position": null,
            "order": null,
            "overflow": null,
            "overflow_x": null,
            "overflow_y": null,
            "padding": null,
            "right": null,
            "top": null,
            "visibility": null,
            "width": null
          }
        },
        "983f238ff40e40928adcef6a51c04fe8": {
          "model_module": "@jupyter-widgets/controls",
          "model_name": "ProgressStyleModel",
          "model_module_version": "1.5.0",
          "state": {
            "_model_module": "@jupyter-widgets/controls",
            "_model_module_version": "1.5.0",
            "_model_name": "ProgressStyleModel",
            "_view_count": null,
            "_view_module": "@jupyter-widgets/base",
            "_view_module_version": "1.2.0",
            "_view_name": "StyleView",
            "bar_color": null,
            "description_width": ""
          }
        },
        "d87fdc53758e41f299652ad8ff8d9f61": {
          "model_module": "@jupyter-widgets/base",
          "model_name": "LayoutModel",
          "model_module_version": "1.2.0",
          "state": {
            "_model_module": "@jupyter-widgets/base",
            "_model_module_version": "1.2.0",
            "_model_name": "LayoutModel",
            "_view_count": null,
            "_view_module": "@jupyter-widgets/base",
            "_view_module_version": "1.2.0",
            "_view_name": "LayoutView",
            "align_content": null,
            "align_items": null,
            "align_self": null,
            "border": null,
            "bottom": null,
            "display": null,
            "flex": null,
            "flex_flow": null,
            "grid_area": null,
            "grid_auto_columns": null,
            "grid_auto_flow": null,
            "grid_auto_rows": null,
            "grid_column": null,
            "grid_gap": null,
            "grid_row": null,
            "grid_template_areas": null,
            "grid_template_columns": null,
            "grid_template_rows": null,
            "height": null,
            "justify_content": null,
            "justify_items": null,
            "left": null,
            "margin": null,
            "max_height": null,
            "max_width": null,
            "min_height": null,
            "min_width": null,
            "object_fit": null,
            "object_position": null,
            "order": null,
            "overflow": null,
            "overflow_x": null,
            "overflow_y": null,
            "padding": null,
            "right": null,
            "top": null,
            "visibility": null,
            "width": null
          }
        },
        "36f6587b908542ab845fb3960d213ec8": {
          "model_module": "@jupyter-widgets/controls",
          "model_name": "DescriptionStyleModel",
          "model_module_version": "1.5.0",
          "state": {
            "_model_module": "@jupyter-widgets/controls",
            "_model_module_version": "1.5.0",
            "_model_name": "DescriptionStyleModel",
            "_view_count": null,
            "_view_module": "@jupyter-widgets/base",
            "_view_module_version": "1.2.0",
            "_view_name": "StyleView",
            "description_width": ""
          }
        },
        "8c90bc94dcdf4b4aaf0565625d58fd84": {
          "model_module": "@jupyter-widgets/controls",
          "model_name": "HBoxModel",
          "model_module_version": "1.5.0",
          "state": {
            "_dom_classes": [],
            "_model_module": "@jupyter-widgets/controls",
            "_model_module_version": "1.5.0",
            "_model_name": "HBoxModel",
            "_view_count": null,
            "_view_module": "@jupyter-widgets/controls",
            "_view_module_version": "1.5.0",
            "_view_name": "HBoxView",
            "box_style": "",
            "children": [
              "IPY_MODEL_12c5be1803204c4fbe1a567694650177",
              "IPY_MODEL_a25e427e6c944cd08a7132853866256b",
              "IPY_MODEL_c01dcc155e474303a15a23b6515d0ef1"
            ],
            "layout": "IPY_MODEL_3e6174832f0049f99a847f2d7e1bc2d6"
          }
        },
        "12c5be1803204c4fbe1a567694650177": {
          "model_module": "@jupyter-widgets/controls",
          "model_name": "HTMLModel",
          "model_module_version": "1.5.0",
          "state": {
            "_dom_classes": [],
            "_model_module": "@jupyter-widgets/controls",
            "_model_module_version": "1.5.0",
            "_model_name": "HTMLModel",
            "_view_count": null,
            "_view_module": "@jupyter-widgets/controls",
            "_view_module_version": "1.5.0",
            "_view_name": "HTMLView",
            "description": "",
            "description_tooltip": null,
            "layout": "IPY_MODEL_9d019b2145a64eeaa821b8349fa78bd7",
            "placeholder": "​",
            "style": "IPY_MODEL_20ff63075bde4cc08e538847e0e9870c",
            "value": "model.safetensors: 100%"
          }
        },
        "a25e427e6c944cd08a7132853866256b": {
          "model_module": "@jupyter-widgets/controls",
          "model_name": "FloatProgressModel",
          "model_module_version": "1.5.0",
          "state": {
            "_dom_classes": [],
            "_model_module": "@jupyter-widgets/controls",
            "_model_module_version": "1.5.0",
            "_model_name": "FloatProgressModel",
            "_view_count": null,
            "_view_module": "@jupyter-widgets/controls",
            "_view_module_version": "1.5.0",
            "_view_name": "ProgressView",
            "bar_style": "success",
            "description": "",
            "description_tooltip": null,
            "layout": "IPY_MODEL_812cd6d2cde94435aa7bc5d01cdc8c0a",
            "max": 510359598,
            "min": 0,
            "orientation": "horizontal",
            "style": "IPY_MODEL_8dbbe1a6fca64317b09d41666c3fd392",
            "value": 510359598
          }
        },
        "c01dcc155e474303a15a23b6515d0ef1": {
          "model_module": "@jupyter-widgets/controls",
          "model_name": "HTMLModel",
          "model_module_version": "1.5.0",
          "state": {
            "_dom_classes": [],
            "_model_module": "@jupyter-widgets/controls",
            "_model_module_version": "1.5.0",
            "_model_name": "HTMLModel",
            "_view_count": null,
            "_view_module": "@jupyter-widgets/controls",
            "_view_module_version": "1.5.0",
            "_view_name": "HTMLView",
            "description": "",
            "description_tooltip": null,
            "layout": "IPY_MODEL_e0ba0ae317d44976aed66ae15038417f",
            "placeholder": "​",
            "style": "IPY_MODEL_83013070cccb4255b0dc60ebda04d71c",
            "value": " 510M/510M [00:08&lt;00:00, 44.8MB/s]"
          }
        },
        "3e6174832f0049f99a847f2d7e1bc2d6": {
          "model_module": "@jupyter-widgets/base",
          "model_name": "LayoutModel",
          "model_module_version": "1.2.0",
          "state": {
            "_model_module": "@jupyter-widgets/base",
            "_model_module_version": "1.2.0",
            "_model_name": "LayoutModel",
            "_view_count": null,
            "_view_module": "@jupyter-widgets/base",
            "_view_module_version": "1.2.0",
            "_view_name": "LayoutView",
            "align_content": null,
            "align_items": null,
            "align_self": null,
            "border": null,
            "bottom": null,
            "display": null,
            "flex": null,
            "flex_flow": null,
            "grid_area": null,
            "grid_auto_columns": null,
            "grid_auto_flow": null,
            "grid_auto_rows": null,
            "grid_column": null,
            "grid_gap": null,
            "grid_row": null,
            "grid_template_areas": null,
            "grid_template_columns": null,
            "grid_template_rows": null,
            "height": null,
            "justify_content": null,
            "justify_items": null,
            "left": null,
            "margin": null,
            "max_height": null,
            "max_width": null,
            "min_height": null,
            "min_width": null,
            "object_fit": null,
            "object_position": null,
            "order": null,
            "overflow": null,
            "overflow_x": null,
            "overflow_y": null,
            "padding": null,
            "right": null,
            "top": null,
            "visibility": null,
            "width": null
          }
        },
        "9d019b2145a64eeaa821b8349fa78bd7": {
          "model_module": "@jupyter-widgets/base",
          "model_name": "LayoutModel",
          "model_module_version": "1.2.0",
          "state": {
            "_model_module": "@jupyter-widgets/base",
            "_model_module_version": "1.2.0",
            "_model_name": "LayoutModel",
            "_view_count": null,
            "_view_module": "@jupyter-widgets/base",
            "_view_module_version": "1.2.0",
            "_view_name": "LayoutView",
            "align_content": null,
            "align_items": null,
            "align_self": null,
            "border": null,
            "bottom": null,
            "display": null,
            "flex": null,
            "flex_flow": null,
            "grid_area": null,
            "grid_auto_columns": null,
            "grid_auto_flow": null,
            "grid_auto_rows": null,
            "grid_column": null,
            "grid_gap": null,
            "grid_row": null,
            "grid_template_areas": null,
            "grid_template_columns": null,
            "grid_template_rows": null,
            "height": null,
            "justify_content": null,
            "justify_items": null,
            "left": null,
            "margin": null,
            "max_height": null,
            "max_width": null,
            "min_height": null,
            "min_width": null,
            "object_fit": null,
            "object_position": null,
            "order": null,
            "overflow": null,
            "overflow_x": null,
            "overflow_y": null,
            "padding": null,
            "right": null,
            "top": null,
            "visibility": null,
            "width": null
          }
        },
        "20ff63075bde4cc08e538847e0e9870c": {
          "model_module": "@jupyter-widgets/controls",
          "model_name": "DescriptionStyleModel",
          "model_module_version": "1.5.0",
          "state": {
            "_model_module": "@jupyter-widgets/controls",
            "_model_module_version": "1.5.0",
            "_model_name": "DescriptionStyleModel",
            "_view_count": null,
            "_view_module": "@jupyter-widgets/base",
            "_view_module_version": "1.2.0",
            "_view_name": "StyleView",
            "description_width": ""
          }
        },
        "812cd6d2cde94435aa7bc5d01cdc8c0a": {
          "model_module": "@jupyter-widgets/base",
          "model_name": "LayoutModel",
          "model_module_version": "1.2.0",
          "state": {
            "_model_module": "@jupyter-widgets/base",
            "_model_module_version": "1.2.0",
            "_model_name": "LayoutModel",
            "_view_count": null,
            "_view_module": "@jupyter-widgets/base",
            "_view_module_version": "1.2.0",
            "_view_name": "LayoutView",
            "align_content": null,
            "align_items": null,
            "align_self": null,
            "border": null,
            "bottom": null,
            "display": null,
            "flex": null,
            "flex_flow": null,
            "grid_area": null,
            "grid_auto_columns": null,
            "grid_auto_flow": null,
            "grid_auto_rows": null,
            "grid_column": null,
            "grid_gap": null,
            "grid_row": null,
            "grid_template_areas": null,
            "grid_template_columns": null,
            "grid_template_rows": null,
            "height": null,
            "justify_content": null,
            "justify_items": null,
            "left": null,
            "margin": null,
            "max_height": null,
            "max_width": null,
            "min_height": null,
            "min_width": null,
            "object_fit": null,
            "object_position": null,
            "order": null,
            "overflow": null,
            "overflow_x": null,
            "overflow_y": null,
            "padding": null,
            "right": null,
            "top": null,
            "visibility": null,
            "width": null
          }
        },
        "8dbbe1a6fca64317b09d41666c3fd392": {
          "model_module": "@jupyter-widgets/controls",
          "model_name": "ProgressStyleModel",
          "model_module_version": "1.5.0",
          "state": {
            "_model_module": "@jupyter-widgets/controls",
            "_model_module_version": "1.5.0",
            "_model_name": "ProgressStyleModel",
            "_view_count": null,
            "_view_module": "@jupyter-widgets/base",
            "_view_module_version": "1.2.0",
            "_view_name": "StyleView",
            "bar_color": null,
            "description_width": ""
          }
        },
        "e0ba0ae317d44976aed66ae15038417f": {
          "model_module": "@jupyter-widgets/base",
          "model_name": "LayoutModel",
          "model_module_version": "1.2.0",
          "state": {
            "_model_module": "@jupyter-widgets/base",
            "_model_module_version": "1.2.0",
            "_model_name": "LayoutModel",
            "_view_count": null,
            "_view_module": "@jupyter-widgets/base",
            "_view_module_version": "1.2.0",
            "_view_name": "LayoutView",
            "align_content": null,
            "align_items": null,
            "align_self": null,
            "border": null,
            "bottom": null,
            "display": null,
            "flex": null,
            "flex_flow": null,
            "grid_area": null,
            "grid_auto_columns": null,
            "grid_auto_flow": null,
            "grid_auto_rows": null,
            "grid_column": null,
            "grid_gap": null,
            "grid_row": null,
            "grid_template_areas": null,
            "grid_template_columns": null,
            "grid_template_rows": null,
            "height": null,
            "justify_content": null,
            "justify_items": null,
            "left": null,
            "margin": null,
            "max_height": null,
            "max_width": null,
            "min_height": null,
            "min_width": null,
            "object_fit": null,
            "object_position": null,
            "order": null,
            "overflow": null,
            "overflow_x": null,
            "overflow_y": null,
            "padding": null,
            "right": null,
            "top": null,
            "visibility": null,
            "width": null
          }
        },
        "83013070cccb4255b0dc60ebda04d71c": {
          "model_module": "@jupyter-widgets/controls",
          "model_name": "DescriptionStyleModel",
          "model_module_version": "1.5.0",
          "state": {
            "_model_module": "@jupyter-widgets/controls",
            "_model_module_version": "1.5.0",
            "_model_name": "DescriptionStyleModel",
            "_view_count": null,
            "_view_module": "@jupyter-widgets/base",
            "_view_module_version": "1.2.0",
            "_view_name": "StyleView",
            "description_width": ""
          }
        }
      }
    }
  },
  "cells": [
    {
      "cell_type": "markdown",
      "metadata": {
        "id": "view-in-github",
        "colab_type": "text"
      },
      "source": [
        "<a href=\"https://colab.research.google.com/github/Natividad2104/AWS/blob/main/nleva_Presentaci%C3%B3n_chat_bot_act.ipynb\" target=\"_parent\"><img src=\"https://colab.research.google.com/assets/colab-badge.svg\" alt=\"Open In Colab\"/></a>"
      ]
    },
    {
      "cell_type": "markdown",
      "source": [
        "Importar json\n",
        "Crear archivo .json y el diccionario con el que \"alimentaremos\" a nuestro chat bot\n",
        "\n",
        "Uso del archivo JSON:\n",
        "\n",
        "Cargar información específica: El archivo JSON actúa como una base de datos que el chatbot puede consultar para obtener información detallada sobre las ciudades.\n",
        "\n",
        "Facilidad de actualización: Los datos en el archivo JSON se pueden actualizar fácilmente sin necesidad de modificar el código principal del chatbot.\n",
        "\n"
      ],
      "metadata": {
        "id": "c3mslCENg3DD"
      }
    },
    {
      "cell_type": "code",
      "execution_count": null,
      "metadata": {
        "id": "Jnv0IfGUgTt3"
      },
      "outputs": [],
      "source": [
        "import json\n",
        "\n",
        "# Crear el archivo JSON directamente desde el código.\n",
        "ciudades_data = {\n",
        "    \"ciudades\": [\n",
        "        {\n",
        "            \"nombre\": \"París\",\n",
        "            \"transporte\": [\"El metro, autobuses, bicicletas y taxis son los principales medios de transporte.\"],\n",
        "            \"alojamiento\": [\"Puedes encontrar una amplia gama de alojamientos, desde hoteles de lujo hasta hostales y apartamentos.\"],\n",
        "            \"atracciones\": [\"Torre Eiffel, Museo del Louvre, Catedral de Notre-Dame, Campos Elíseos.\"]\n",
        "        },\n",
        "        {\n",
        "            \"nombre\": \"Roma\",\n",
        "            \"transporte\": [\"El metro, autobuses y tranvías son los medios de transporte más comunes.\"],\n",
        "            \"alojamiento\": [\"Roma ofrece hoteles históricos, modernos apartamentos y acogedores bed & breakfast.\"],\n",
        "            \"atracciones\": [\"Coliseo, Foro Romano, Panteón, Fontana di Trevi, Vaticano.\"]\n",
        "        },\n",
        "        {\n",
        "            \"nombre\": \"Barcelona\",\n",
        "            \"transporte\": [\"El metro, autobuses, tranvías y bicicletas son opciones populares.\"],\n",
        "            \"alojamiento\": [\"Desde hoteles boutique hasta hostales económicos y apartamentos turísticos.\"],\n",
        "            \"atracciones\": [\"Sagrada Familia, Parque Güell, La Rambla, Barrio Gótico.\"]\n",
        "        },\n",
        "        {\n",
        "            \"nombre\": \"Londres\",\n",
        "            \"transporte\": [\"El metro, autobuses, trenes y bicicletas públicas son ampliamente utilizados.\"],\n",
        "            \"alojamiento\": [\"Gran variedad de hoteles, hostales y apartamentos disponibles.\"],\n",
        "            \"atracciones\": [\"Big Ben, London Eye, Museo Británico, Torre de Londres.\"]\n",
        "        },\n",
        "        {\n",
        "            \"nombre\": \"Berlín\",\n",
        "            \"transporte\": [\"El sistema de trenes, autobuses y tranvías es muy eficiente.\"],\n",
        "            \"alojamiento\": [\"Hoteles modernos, hostales y apartamentos asequibles.\"],\n",
        "            \"atracciones\": [\"Puerta de Brandeburgo, Muro de Berlín, Museo de Pérgamo, Reichstag.\"]\n",
        "        },\n",
        "        {\n",
        "            \"nombre\": \"Ámsterdam\",\n",
        "            \"transporte\": [\"Bicicletas, tranvías y autobuses son los principales medios de transporte.\"],\n",
        "            \"alojamiento\": [\"Hoteles con encanto, hostales y casas flotantes.\"],\n",
        "            \"atracciones\": [\"Museo Van Gogh, Casa de Ana Frank, Rijksmuseum, Canales de Ámsterdam.\"]\n",
        "        },\n",
        "        {\n",
        "            \"nombre\": \"Madrid\",\n",
        "            \"transporte\": [\"Metro, autobuses y trenes de cercanías son muy usados.\"],\n",
        "            \"alojamiento\": [\"Hoteles de lujo, hostales y apartamentos céntricos.\"],\n",
        "            \"atracciones\": [\"Museo del Prado, Parque del Retiro, Palacio Real, Plaza Mayor.\"]\n",
        "        }\n",
        "    ]\n",
        "}\n",
        "\n",
        "# Guardar el JSON en un archivo\n",
        "#Esto permite utilizar las funciones del módulo json para trabajar con datos en formato JSON.\n",
        "with open('ciudades.json', 'w', encoding='utf-8') as f:\n",
        "    json.dump(ciudades_data, f, ensure_ascii=False, indent=4)#Se abre un archivo llamado ciudades.json en modo de escritura ('w') con codificación UTF-8.\n",
        "    #El with se usa para asegurar que el archivo se cierre correctamente después de escribir en él.\n"
      ]
    },
    {
      "cell_type": "markdown",
      "source": [
        "**json:** Biblioteca estándar de Python para trabajar con datos en formato JSON.\n",
        "\n",
        "**transformers:** Biblioteca de Hugging Face que proporciona modelos de procesamiento de lenguaje natural (NLP).\n",
        "\n",
        "**AutoTokenizer y AutoModelForCausalLM:** Clases de transformers que cargan el tokenizador y el modelo de lenguaje, respectivamente.\n",
        "\n",
        "**set_seed:** Función para establecer una semilla aleatoria, lo que hace que los resultados sean reproducibles.\n",
        "\n",
        "**model_name:** Nombre del modelo preentrenado en español que estamos usando."
      ],
      "metadata": {
        "id": "xkoLusBTjV7W"
      }
    },
    {
      "cell_type": "code",
      "source": [
        "from transformers import AutoTokenizer, AutoModelForCausalLM, set_seed#Biblioteca de Hugging Face que proporciona modelos de procesamiento de lenguaje natural (NLP)\n",
        "# Clases de transformers que cargan el tokenizador y el modelo de lenguaje\n",
        "model_name = \"flax-community/gpt-2-spanish\"#modelo con el que trabajaremos en el caso de que no se realicen consultas especificas\n",
        "\n",
        "# Cargar el tokenizador y el modelo\n",
        "tokenizer = AutoTokenizer.from_pretrained(model_name)#divide el texto\n",
        "model = AutoModelForCausalLM.from_pretrained(model_name)#el modelo del lenguaje que vamos a utilizar\n",
        "\n",
        "set_seed(42)  #( Esta función nos permitirá para establecer una semilla aleatoria,\n",
        "#lo que hace que los resultados sean reproducibles.)"
      ],
      "metadata": {
        "id": "oFLIWXfyGdfo",
        "colab": {
          "base_uri": "https://localhost:8080/",
          "height": 272,
          "referenced_widgets": [
            "bd353f40342a4098911a6f3313d506f8",
            "66c7bd0026774822a0a6e11e33b20e8a",
            "ce52b2a07914462885ecd062354b5052",
            "2fb2e8a8a34f4b94a797043657097f6b",
            "1aadb8e2ed924dada8ef5ff56770cd58",
            "55ef99cb41a54af7ba50645e3e0760ca",
            "f870098293d349fd8e40fac4faa0de56",
            "466ae5f33e9845c5bfa74d11601ca671",
            "5dd01d7b25a44c5e8760dd7390f2e6ff",
            "a31d84b109b8457dbc036f05403d9076",
            "d4aa8d5ab9c741e98079bb8d3f2b3c34",
            "36ce82b1320a41a1a3c29c443473c221",
            "ac23af9f5211413fba4747f807144009",
            "558232de103f4011b7a2b59ad4c88ada",
            "2f32b32ad45d4faaa71e74b7a88eb70d",
            "3ed7a0f0c2ec4ed0a547f0810e4b2dac",
            "98c0bd1a5cee4c31a002a19876ebf23f",
            "a89b7f09dd2243918fad90bf059a197b",
            "3d55211470324cc4a46d135f8c437b4f",
            "983f238ff40e40928adcef6a51c04fe8",
            "d87fdc53758e41f299652ad8ff8d9f61",
            "36f6587b908542ab845fb3960d213ec8",
            "8c90bc94dcdf4b4aaf0565625d58fd84",
            "12c5be1803204c4fbe1a567694650177",
            "a25e427e6c944cd08a7132853866256b",
            "c01dcc155e474303a15a23b6515d0ef1",
            "3e6174832f0049f99a847f2d7e1bc2d6",
            "9d019b2145a64eeaa821b8349fa78bd7",
            "20ff63075bde4cc08e538847e0e9870c",
            "812cd6d2cde94435aa7bc5d01cdc8c0a",
            "8dbbe1a6fca64317b09d41666c3fd392",
            "e0ba0ae317d44976aed66ae15038417f",
            "83013070cccb4255b0dc60ebda04d71c"
          ]
        },
        "outputId": "2198e91e-745d-49c8-c36a-8cf283ee9ab8"
      },
      "execution_count": null,
      "outputs": [
        {
          "output_type": "stream",
          "name": "stderr",
          "text": [
            "/usr/local/lib/python3.10/dist-packages/huggingface_hub/utils/_token.py:89: UserWarning: \n",
            "The secret `HF_TOKEN` does not exist in your Colab secrets.\n",
            "To authenticate with the Hugging Face Hub, create a token in your settings tab (https://huggingface.co/settings/tokens), set it as secret in your Google Colab and restart your session.\n",
            "You will be able to reuse this secret in all of your notebooks.\n",
            "Please note that authentication is recommended but still optional to access public models or datasets.\n",
            "  warnings.warn(\n",
            "/usr/local/lib/python3.10/dist-packages/huggingface_hub/file_download.py:1132: FutureWarning: `resume_download` is deprecated and will be removed in version 1.0.0. Downloads always resume when possible. If you want to force a new download, use `force_download=True`.\n",
            "  warnings.warn(\n"
          ]
        },
        {
          "output_type": "display_data",
          "data": {
            "text/plain": [
              "config.json:   0%|          | 0.00/811 [00:00<?, ?B/s]"
            ],
            "application/vnd.jupyter.widget-view+json": {
              "version_major": 2,
              "version_minor": 0,
              "model_id": "bd353f40342a4098911a6f3313d506f8"
            }
          },
          "metadata": {}
        },
        {
          "output_type": "display_data",
          "data": {
            "text/plain": [
              "tokenizer.json:   0%|          | 0.00/1.46M [00:00<?, ?B/s]"
            ],
            "application/vnd.jupyter.widget-view+json": {
              "version_major": 2,
              "version_minor": 0,
              "model_id": "36ce82b1320a41a1a3c29c443473c221"
            }
          },
          "metadata": {}
        },
        {
          "output_type": "display_data",
          "data": {
            "text/plain": [
              "model.safetensors:   0%|          | 0.00/510M [00:00<?, ?B/s]"
            ],
            "application/vnd.jupyter.widget-view+json": {
              "version_major": 2,
              "version_minor": 0,
              "model_id": "8c90bc94dcdf4b4aaf0565625d58fd84"
            }
          },
          "metadata": {}
        }
      ]
    },
    {
      "cell_type": "markdown",
      "source": [
        " - Cargar el archivo JSON"
      ],
      "metadata": {
        "id": "np3IPA3Yjwx_"
      }
    },
    {
      "cell_type": "code",
      "source": [
        "# Cargar el archivo JSON\n",
        "with open('ciudades.json', 'r', encoding='utf-8') as f:#Esta orden nos abrirá el archivo en modo lectura\n",
        "    datos_ciudades = json.load(f)#Cargará el contenido del archivo .json\n"
      ],
      "metadata": {
        "id": "YKe8Nw4Ui6uN"
      },
      "execution_count": null,
      "outputs": []
    },
    {
      "cell_type": "markdown",
      "source": [
        "**open:** Abre el archivo ciudades.json en modo lectura.\n",
        "\n",
        "**json.load(f):** Carga el contenido del archivo JSON en la variable datos_ciudades."
      ],
      "metadata": {
        "id": "0TFXdVqqj0g9"
      }
    },
    {
      "cell_type": "markdown",
      "source": [
        "- Función para generar respuestas usando GPT-2"
      ],
      "metadata": {
        "id": "52tpJoIekCSR"
      }
    },
    {
      "cell_type": "code",
      "source": [
        "def generar_respuesta(prompt, max_length=150):#Esta función generará respuesta usando el modelo GPT-2\n",
        "    inputs = tokenizer.encode(prompt, return_tensors=\"pt\")#Codifica la entrada del susuarios en tensores\n",
        "    outputs = model.generate(inputs, max_length=max_length, num_return_sequences=1, no_repeat_ngram_size=2, temperature=0.7)#Genera texto basado en la entrada codificada\n",
        "    return tokenizer.decode(outputs[0], skip_special_tokens=True)#decodifica el tensor de salida en texto\n"
      ],
      "metadata": {
        "id": "Jx8lonkri-f9"
      },
      "execution_count": null,
      "outputs": []
    },
    {
      "cell_type": "markdown",
      "source": [
        "**generar_respuesta:** Función que genera una respuesta utilizando el modelo GPT-2.\n",
        "\n",
        "**tokenizer.encode(prompt, return_tensors=\"pt\"):** Codifica la entrada del usuario en tensores.\n",
        "\n",
        "**model.generate(...):** Genera texto basado en la entrada codificada.\n",
        "\n",
        "**tokenizer.decode(outputs[0], skip_special_tokens=True):** Decodifica el tensor de salida en texto."
      ],
      "metadata": {
        "id": "50Z9Px0wkNRv"
      }
    },
    {
      "cell_type": "markdown",
      "source": [
        "- Función para buscar información en el archivo JSON"
      ],
      "metadata": {
        "id": "XgWvsTq5ke4Y"
      }
    },
    {
      "cell_type": "code",
      "source": [
        "def buscar_info_ciudad(ciudad, tipo_info):#Esta función busca información específica de las ciudades\n",
        "    for entry in datos_ciudades[\"ciudades\"]:#Itera sobre todas las ciudades\n",
        "        if entry[\"nombre\"].lower() == ciudad.lower():#Compara el nombre de la ciudad en minúsculas para asegurar una coíncidencia\n",
        "            return entry.get(tipo_info, [\"Lo siento, no tengo información sobre eso.\"])[0]#Obtiene la información solicitada o devuelve un mensaje de error si no se encuentra.\n",
        "    return \"Lo siento, no tengo información sobre esa ciudad.\"\n"
      ],
      "metadata": {
        "id": "iBL0wnrdjDJy"
      },
      "execution_count": null,
      "outputs": []
    },
    {
      "cell_type": "markdown",
      "source": [
        "**buscar_info_ciudad:** Función que busca información específica (transporte, alojamiento, atracciones) sobre una ciudad en el archivo JSON.\n",
        "\n",
        "**for entry in datos_ciudades[\"ciudades\"]:** Itera sobre todas las ciudades en el JSON.\n",
        "\n",
        "**if entry[\"nombre\"].lower() == ciudad.lower():** Compara el nombre de la ciudad en minúsculas para asegurar una coincidencia insensible a mayúsculas/minúsculas.\n",
        "\n",
        "**entry.get(tipo_info, [\"Lo siento, no tengo información sobre eso.\"])[0]:** Obtiene la información solicitada o devuelve un mensaje de error si no se encuentra."
      ],
      "metadata": {
        "id": "ZkfIRwdBkh1Y"
      }
    },
    {
      "cell_type": "markdown",
      "source": [
        "- Función de chat para interactuar con el usuario"
      ],
      "metadata": {
        "id": "KRyrpf9Ak2Qu"
      }
    },
    {
      "cell_type": "code",
      "source": [
        "def chat():#Con esta función interactuará con el usuario\n",
        "    print(\"¡Hola! Soy tu asistente de viajes. ¿En qué puedo ayudarte hoy?\")\n",
        "    while True:\n",
        "        user_input = input(\"Tú: \")#captura la entrada del usuario\n",
        "        if user_input.lower() in [\"salir\", \"adiós\", \"gracias\"]:#Permite salir del chat\n",
        "            print(\"Chatbot: ¡Hasta luego! ¡Espero haberte ayudado!\")\n",
        "            break\n",
        "\n",
        "        # Procesar la entrada del usuario\n",
        "        if \"transporte\" in user_input.lower():#En el caso de que el usuario pregunte por el transporte\n",
        "            ciudad = user_input.split()[-1]#El nombre de la ciudad deberá aparecer al final de la consulta\n",
        "            response = buscar_info_ciudad(ciudad, \"transporte\")#En esta linea llamamos a la función para obtener información sobre el transporte\n",
        "        elif \"alojamiento\" in user_input.lower():#En el caso de que la consulta sea sobre el alojamiento\n",
        "            ciudad = user_input.split()[-1]#El nombre de la ciudad deberá aparecer al final de la consulta\n",
        "            response = buscar_info_ciudad(ciudad, \"alojamiento\")#Llamamos a la función para obtener información sobre el transporte\n",
        "        elif \"atracciones\" in user_input.lower():#En el caso de qua la consulta sea sobre el Atracciones\n",
        "            ciudad = user_input.split()[-1]#El nombre de la ciudad deberá aparecer al final de la consulta\n",
        "            response = buscar_info_ciudad(ciudad, \"atracciones\")#Llamamos a la función para obtener información sobre el atracciones\n",
        "        else:\n",
        "            response = generar_respuesta(\"Responde en español: \" + user_input)#se utiliza para generar una respuesta utilizando\n",
        "            #el modelo de lenguaje GPT-2 en los casos en los que el usuario no está preguntando específicamente sobre transporte,\n",
        "            #alojamiento o atracciones en una ciudad\n",
        "\n",
        "        print(f\"Chatbot: {response}\")\n",
        "\n",
        "# Iniciar el chat\n",
        "chat()#función principal, maneja la iteración con el usuario\n"
      ],
      "metadata": {
        "colab": {
          "base_uri": "https://localhost:8080/"
        },
        "id": "SvS-YlX2jHb6",
        "outputId": "461e8d29-0453-4d44-a23d-5e9c9c23b427"
      },
      "execution_count": null,
      "outputs": [
        {
          "metadata": {
            "tags": null
          },
          "name": "stdout",
          "output_type": "stream",
          "text": [
            "¡Hola! Soy tu asistente de viajes. ¿En qué puedo ayudarte hoy?\n",
            "Chatbot: Museo del Prado, Parque del Retiro, Palacio Real, Plaza Mayor.\n",
            "Chatbot: El sistema de trenes, autobuses y tranvías es muy eficiente.\n",
            "Chatbot: Lo siento, no tengo información sobre esa ciudad.\n"
          ]
        },
        {
          "metadata": {
            "tags": null
          },
          "name": "stderr",
          "output_type": "stream",
          "text": [
            "/usr/local/lib/python3.10/dist-packages/transformers/generation/configuration_utils.py:515: UserWarning: `do_sample` is set to `False`. However, `temperature` is set to `0.7` -- this flag is only used in sample-based generation modes. You should set `do_sample=True` or unset `temperature`.\n",
            "  warnings.warn(\n",
            "The attention mask and the pad token id were not set. As a consequence, you may observe unexpected behavior. Please pass your input's `attention_mask` to obtain reliable results.\n",
            "Setting `pad_token_id` to `eos_token_id`:50256 for open-end generation.\n"
          ]
        },
        {
          "metadata": {
            "tags": null
          },
          "name": "stdout",
          "output_type": "stream",
          "text": [
            "Chatbot: Responde en español: Turismo Barcelona, Barcelona.\n",
            "El Hotel Ritz de Barcelona dona a la Fundación Josep Carreras la colección dc. El hotel RIH  iza una donación  a favor  del proyecto dm. La Fundación RH donará la Colección dd. dl. a través deaf. del Museo dtl Rialto ds. y dn. el Museo del Prado.El presidente dle la Generalitat, José Montilla, ha anunciado que el próximo lunes, día 1 ú 2 ie octubre, se celebrará una reunión  con el presidente del Gobierno, Mariano Rajoy, para tratar  sobre la situación n Cataluña. \"El día 2,  se reunirá\n"
          ]
        },
        {
          "metadata": {
            "tags": null
          },
          "name": "stderr",
          "output_type": "stream",
          "text": [
            "The attention mask and the pad token id were not set. As a consequence, you may observe unexpected behavior. Please pass your input's `attention_mask` to obtain reliable results.\n",
            "Setting `pad_token_id` to `eos_token_id`:50256 for open-end generation.\n"
          ]
        },
        {
          "output_type": "stream",
          "name": "stdout",
          "text": [
            "Chatbot: Responde en español: Valencia, España.\n",
            "El Instituto de la Juventud dona un ejemplar dl libro dm dc df dd db dt dpd dh dn dy deh dle edo ie eo ied deo ío ía ú ió ño dal eto dea eda ita ica osa ia ona ón ión ás ono ís ito eas ias ós eos eis ees ies ete ez ena isa ea ista ña ua úa ura illa ula ús eal ual úe omo \n",
            "Tú: salir\n",
            "Chatbot: ¡Hasta luego! ¡Espero haberte ayudado!\n"
          ]
        }
      ]
    },
    {
      "cell_type": "markdown",
      "source": [
        "**chat:** Función principal que maneja la interacción con el usuario.\n",
        "\n",
        "**input(\"Tú: \"):** Captura la entrada del usuario.\n",
        "\n",
        "**if user_input.lower() in [\"salir\", \"adiós\", \"gracias\"]:** Permite salir del chat con ciertos comandos.\n",
        "\n",
        "**if \"transporte\" in user_input.lower():** Detecta si el usuario pregunta sobre transporte.\n",
        "\n",
        "**ciudad = user_input.split()[-1]:** Asume que la última palabra en la entrada del usuario es el nombre de la ciudad.\n",
        "\n",
        "**response = buscar_info_ciudad(ciudad, \"transporte\"):** Llama a la función para obtener información sobre transporte en la ciudad especificada.\n",
        "\n",
        "**else:** Si la entrada no contiene palabras clave específicas, utiliza GPT-2 para generar una respuesta general."
      ],
      "metadata": {
        "id": "1wACqlVEk9Cs"
      }
    },
    {
      "cell_type": "markdown",
      "source": [
        "\n",
        "\n",
        "\n",
        "En este código se ha combinado un modelo de lenguaje avanzado (GPT-2) con datos estructurados (JSON) que aportará respuestas útiles y específicas sobre viajes.\n",
        "Aprovecha la capacidad de los modelos de lenguaje natural para generar respuestas coherentes y contextuales.\n",
        "\n",
        "\n",
        " Proporciona información específica sobre transporte, alojamiento y atracciones en varias ciudades europeas.\n",
        "Responde preguntas generales o proporcionar información adicional mediante generación de lenguaje natural.\n",
        "\n",
        "Uso del archivo JSON:\n",
        "\n",
        "Cargar información específica: El archivo JSON actúa como una base de datos que el chatbot puede consultar para obtener información detallada sobre las ciudades.\n",
        "Facilidad de actualización: Los datos en el archivo JSON se pueden actualizar fácilmente sin necesidad de modificar el código principal del chatbot.\n",
        "\n",
        "Con esta estructura, el chatbot puede ofrecer información precisa y detallada, al tiempo que mantiene la capacidad de responder a preguntas generales gracias al modelo GPT-2."
      ],
      "metadata": {
        "id": "VKhRw_zDmRD6"
      }
    }
  ]
}